{
  "nbformat": 4,
  "nbformat_minor": 0,
  "metadata": {
    "colab": {
      "provenance": [],
      "toc_visible": true,
      "include_colab_link": true
    },
    "kernelspec": {
      "name": "python3",
      "display_name": "Python 3"
    },
    "language_info": {
      "name": "python"
    }
  },
  "cells": [
    {
      "cell_type": "markdown",
      "metadata": {
        "id": "view-in-github",
        "colab_type": "text"
      },
      "source": [
        "<a href=\"https://colab.research.google.com/github/Pianotwice/calculadora-bootstrap/blob/main/Sesion_2_Introducci%C3%B3n_a_Python.ipynb\" target=\"_parent\"><img src=\"https://colab.research.google.com/assets/colab-badge.svg\" alt=\"Open In Colab\"/></a>"
      ]
    },
    {
      "cell_type": "markdown",
      "source": [
        "\n",
        "# <center> INTRODUCCIÓN a PYTHON </center>\n",
        "\n",
        "## 1. ¿Qué es Python?\n",
        "Python es un lenguaje de programación de alto nivel multiparadigma que permite:\n",
        "\n",
        "* Programación imperativa\n",
        "* Programación funcional\n",
        "* Programación orientada a objetos"
      ],
      "metadata": {
        "id": "9-pPSSUQWeqq"
      }
    },
    {
      "cell_type": "markdown",
      "source": [
        "##2. Principales ventajas de Python\n",
        "\n",
        "* Es de código abierto (certificado por la OSI).\n",
        "* Es interpretable y compilable.\n",
        "* Es fácil de aprender gracias a que su sintaxis es bastante legible para los humanos.\n",
        "* Es un lenguaje maduro (29 años).\n",
        "* Es fácilmente extensible e integrable en otros lenguajes (C, java).\n",
        "* Esta mantenido por una gran comunidad de desarrolladores y hay multitud de recursos para su aprendizaje.\n"
      ],
      "metadata": {
        "id": "uX4OpLUPWd_E"
      }
    },
    {
      "cell_type": "markdown",
      "source": [
        "##3. Tipos de ejecución\n",
        "\n",
        "Interpretado en la consola de Python\n",
        "Se ejecuta cada instrucción que introduce el usuario de manera interactiva."
      ],
      "metadata": {
        "id": "HL_z32dsXEb-"
      }
    },
    {
      "cell_type": "code",
      "source": [
        "print(\"Hola mundo\")"
      ],
      "metadata": {
        "id": "zwnjjrInXg11",
        "outputId": "617eb3de-f431-4712-836a-5ab5374c3864",
        "colab": {
          "base_uri": "https://localhost:8080/"
        }
      },
      "execution_count": 13,
      "outputs": [
        {
          "output_type": "stream",
          "name": "stdout",
          "text": [
            "Hola mundo\n"
          ]
        }
      ]
    },
    {
      "cell_type": "markdown",
      "source": [
        "##4. Interpretado en fichero\n",
        "\n",
        "Se leen y se ejecutan una a una todas las instrucciones del fichero."
      ],
      "metadata": {
        "id": "ux66xMSgXo6W"
      }
    },
    {
      "cell_type": "code",
      "source": [
        "name = \"Alf\"\n",
        "print(\"Hola \", name)"
      ],
      "metadata": {
        "id": "XGHU0b5XXrdJ",
        "outputId": "b48d1a8c-af85-4bc4-8cdd-e7675f5418eb",
        "colab": {
          "base_uri": "https://localhost:8080/"
        }
      },
      "execution_count": 14,
      "outputs": [
        {
          "output_type": "stream",
          "name": "stdout",
          "text": [
            "Hola  Alf\n"
          ]
        }
      ]
    },
    {
      "cell_type": "markdown",
      "source": [
        "\n",
        "# <center> TIPOS DE DATOS </center>\n",
        "\n",
        "##1. Tipos de datos primitivos simples\n",
        "\n",
        "* **Números (numbers)**: Secuencia de dígitos (pueden incluir el - para negativos y el . para decimales) que representan números.\n",
        "  * Ejemplo. 0, -1, 3.1415.\n",
        "* **Cadenas (strings)**: Secuencia de caracteres alfanuméricos que representan texto. Se escriben entre comillas simples o dobles.\n",
        "* Ejemplo. ‘Hola’, “Adiós”.\n",
        "* **Booleanos (boolean)**: Contiene únicamente dos elementos True y False que representan los valores lógicos verdadero y falso respectivamente."
      ],
      "metadata": {
        "id": "vsbKPlanX0Mq"
      }
    },
    {
      "cell_type": "code",
      "source": [
        "#Números\n",
        "a=3\n",
        "print(a)"
      ],
      "metadata": {
        "id": "WDe5ZMmmYSGO",
        "outputId": "7399a875-670b-40d3-ebcd-8661726120af",
        "colab": {
          "base_uri": "https://localhost:8080/"
        }
      },
      "execution_count": 15,
      "outputs": [
        {
          "output_type": "stream",
          "name": "stdout",
          "text": [
            "3\n"
          ]
        }
      ]
    },
    {
      "cell_type": "code",
      "source": [
        "#Cadena de texto\n",
        "titulo = \"El Hombre Araña\"\n",
        "print(titulo)"
      ],
      "metadata": {
        "id": "hlBEUULeYWnv",
        "outputId": "40cc7f4f-ebb6-4c1c-e5a4-af41bc51436f",
        "colab": {
          "base_uri": "https://localhost:8080/"
        }
      },
      "execution_count": 16,
      "outputs": [
        {
          "output_type": "stream",
          "name": "stdout",
          "text": [
            "El Hombre Araña\n"
          ]
        }
      ]
    },
    {
      "cell_type": "markdown",
      "source": [
        "\n",
        "##2. Entrada y Salida por Terminal\n",
        "\n",
        "###2.1. Entrada por terminal (input())\n",
        "Para asignar a una variable un valor introducido por el usuario en la consola se utiliza la instrucción"
      ],
      "metadata": {
        "id": "i_3qTHg_Yg10"
      }
    },
    {
      "cell_type": "code",
      "source": [
        "language = input('¿Cuál es tu lenguaje favorito? ')\n",
        "print(\"Tu lenguaje favorito es\",language)"
      ],
      "metadata": {
        "id": "9A-plk0pY4EC",
        "outputId": "d8a8a157-48b1-4ef1-af1f-5ba320ed4e56",
        "colab": {
          "base_uri": "https://localhost:8080/"
        }
      },
      "execution_count": 17,
      "outputs": [
        {
          "output_type": "stream",
          "name": "stdout",
          "text": [
            "¿Cuál es tu lenguaje favorito? python\n",
            "Tu lenguaje favorito es python\n"
          ]
        }
      ]
    },
    {
      "cell_type": "code",
      "source": [
        "age = int(input('¿Cuál es tu edad? '))\n",
        "print(\"Tu edad es\",age)"
      ],
      "metadata": {
        "id": "roGackE5Y6L0",
        "outputId": "1fc90de9-9840-4c31-cc00-47c14267a2bc",
        "colab": {
          "base_uri": "https://localhost:8080/"
        }
      },
      "execution_count": 20,
      "outputs": [
        {
          "output_type": "stream",
          "name": "stdout",
          "text": [
            "¿Cuál es tu edad? 36\n",
            "Tu edad es 36\n"
          ]
        }
      ]
    },
    {
      "cell_type": "markdown",
      "source": [
        "\n",
        "###2.2. Salida por terminal (print())\n",
        "Para mostrar un dato por la terminal se utiliza la instrucción\n",
        "\n",
        "#print(dato1, ..., sep=' ', end='\\n', file=sys.stdout)\n",
        "\n",
        "donde\n",
        "\n",
        "* dato1, ... son los datos a imprimir y pueden indicarse tantos como se quieran separados por comas.\n",
        "* sep establece el separador entre los datos, que por defecto es un espacio en blanco ' '.\n",
        "* end indica la cadena final de la impresión, que por defecto es un cambio de línea \\n.\n",
        "* file indica la dirección del flujo de salida, que por defecto es la salida estándar sys.stdout."
      ],
      "metadata": {
        "id": "Lw_tu5qcZJpt"
      }
    },
    {
      "cell_type": "code",
      "source": [
        "print('Hola')"
      ],
      "metadata": {
        "id": "Hf_QguyWZgIJ",
        "outputId": "09a6b284-45ab-4a9b-cc2e-09cafd93ab09",
        "colab": {
          "base_uri": "https://localhost:8080/"
        }
      },
      "execution_count": 21,
      "outputs": [
        {
          "output_type": "stream",
          "name": "stdout",
          "text": [
            "Hola\n"
          ]
        }
      ]
    },
    {
      "cell_type": "code",
      "source": [
        "print('El valor de pi es', 3.1415)"
      ],
      "metadata": {
        "id": "cocYVevYZm-k",
        "outputId": "6a43d176-6b98-41e8-b38f-e8ee5a5efe79",
        "colab": {
          "base_uri": "https://localhost:8080/"
        }
      },
      "execution_count": 22,
      "outputs": [
        {
          "output_type": "stream",
          "name": "stdout",
          "text": [
            "El valor de pi es 3.1415\n"
          ]
        }
      ]
    },
    {
      "cell_type": "code",
      "source": [
        "name = 'Luis'\n",
        "print('Hola', name)"
      ],
      "metadata": {
        "id": "3ZYGVDFpZqJE",
        "outputId": "ae0d8eb3-6243-4a6c-8599-3dc6abe57372",
        "colab": {
          "base_uri": "https://localhost:8080/"
        }
      },
      "execution_count": 23,
      "outputs": [
        {
          "output_type": "stream",
          "name": "stdout",
          "text": [
            "Hola Luis\n"
          ]
        }
      ]
    },
    {
      "cell_type": "code",
      "source": [
        "name = 'Luis'\n",
        "print('Hola', name, sep='')"
      ],
      "metadata": {
        "id": "u_YYvR3hZ3Cx",
        "outputId": "5dc9ed62-16f7-4e72-b4f2-f41b76e8b772",
        "colab": {
          "base_uri": "https://localhost:8080/"
        }
      },
      "execution_count": 24,
      "outputs": [
        {
          "output_type": "stream",
          "name": "stdout",
          "text": [
            "HolaLuis\n"
          ]
        }
      ]
    },
    {
      "cell_type": "code",
      "source": [
        "name ='Alf'\n",
        "print('Hola', name, end='!\\n')"
      ],
      "metadata": {
        "id": "ahQpNqp3ZwJ9",
        "outputId": "44756f0e-86c9-4681-d6c4-ef4f2c83151b",
        "colab": {
          "base_uri": "https://localhost:8080/"
        }
      },
      "execution_count": 25,
      "outputs": [
        {
          "output_type": "stream",
          "name": "stdout",
          "text": [
            "Hola Alf!\n"
          ]
        }
      ]
    },
    {
      "cell_type": "markdown",
      "source": [
        "#Clase de un dato (type())\n",
        "La clase a la que pertenece un dato se obtiene con el comando type()"
      ],
      "metadata": {
        "id": "QAv2JKLqaOok"
      }
    },
    {
      "cell_type": "code",
      "source": [
        "type(1)"
      ],
      "metadata": {
        "id": "51KhhFu-aRN2",
        "outputId": "8d6ced46-8c6b-4b0c-d3ea-667f0179e792",
        "colab": {
          "base_uri": "https://localhost:8080/"
        }
      },
      "execution_count": 9,
      "outputs": [
        {
          "output_type": "execute_result",
          "data": {
            "text/plain": [
              "int"
            ]
          },
          "metadata": {},
          "execution_count": 9
        }
      ]
    },
    {
      "cell_type": "code",
      "source": [
        "type(-2)"
      ],
      "metadata": {
        "id": "Bvt_GRF1aXj3",
        "outputId": "6013fa1a-4c24-41f9-ab81-df4beaedb8f2",
        "colab": {
          "base_uri": "https://localhost:8080/"
        }
      },
      "execution_count": 10,
      "outputs": [
        {
          "output_type": "execute_result",
          "data": {
            "text/plain": [
              "int"
            ]
          },
          "metadata": {},
          "execution_count": 10
        }
      ]
    },
    {
      "cell_type": "code",
      "source": [
        "type(2.3)"
      ],
      "metadata": {
        "id": "D9S505HoaZmC",
        "outputId": "de45a7af-042b-4667-96f6-96d927f95ddf",
        "colab": {
          "base_uri": "https://localhost:8080/"
        }
      },
      "execution_count": 11,
      "outputs": [
        {
          "output_type": "execute_result",
          "data": {
            "text/plain": [
              "float"
            ]
          },
          "metadata": {},
          "execution_count": 11
        }
      ]
    },
    {
      "cell_type": "code",
      "source": [
        "type(\"Hola\")"
      ],
      "metadata": {
        "id": "9vluYH1qavmu",
        "outputId": "da12d4dc-080d-4574-a534-a3194cb4ac5f",
        "colab": {
          "base_uri": "https://localhost:8080/"
        }
      },
      "execution_count": 12,
      "outputs": [
        {
          "output_type": "execute_result",
          "data": {
            "text/plain": [
              "str"
            ]
          },
          "metadata": {},
          "execution_count": 12
        }
      ]
    },
    {
      "cell_type": "markdown",
      "source": [
        "# Operadores aritméticos\n",
        "Operadores aritméticos: \n",
        "* Suma +\n",
        "* Resta -\n",
        "* Producto * \n",
        "* Cociente /\n",
        "* Cociente división entera //\n",
        "* Resto división entera %\n",
        "* Potencia **"
      ],
      "metadata": {
        "id": "jF3Lg_9Wa710"
      }
    },
    {
      "cell_type": "markdown",
      "source": [
        "# Orden de prioridad de evaluación:\n",
        "\n",
        "1. Funciones predefinidas\n",
        "2.\tPotencias\n",
        "3.\tProductos y cocientes\n",
        "4.\tSumas y restas\n",
        "\n",
        "Se puede saltar el orden de evaluación utilizando paréntesis ( )."
      ],
      "metadata": {
        "id": "pPolSKwsbbhn"
      }
    },
    {
      "cell_type": "code",
      "source": [
        "2+3"
      ],
      "metadata": {
        "id": "78miZjFTbr3t",
        "outputId": "4a7c8523-bbef-4983-b046-4bf59a515603",
        "colab": {
          "base_uri": "https://localhost:8080/"
        }
      },
      "execution_count": 1,
      "outputs": [
        {
          "output_type": "execute_result",
          "data": {
            "text/plain": [
              "5"
            ]
          },
          "metadata": {},
          "execution_count": 1
        }
      ]
    },
    {
      "cell_type": "code",
      "source": [
        "5*-2"
      ],
      "metadata": {
        "id": "NV9V-G5pbtmw",
        "outputId": "2adaa896-ce7f-4de8-f7de-d2f5bb0416ec",
        "colab": {
          "base_uri": "https://localhost:8080/"
        }
      },
      "execution_count": 2,
      "outputs": [
        {
          "output_type": "execute_result",
          "data": {
            "text/plain": [
              "-10"
            ]
          },
          "metadata": {},
          "execution_count": 2
        }
      ]
    },
    {
      "cell_type": "code",
      "source": [
        "5/2"
      ],
      "metadata": {
        "id": "3-C0aGCZbvOm",
        "outputId": "b9c74a6c-d12e-46d7-c5cb-9a9619ef8e2c",
        "colab": {
          "base_uri": "https://localhost:8080/"
        }
      },
      "execution_count": 3,
      "outputs": [
        {
          "output_type": "execute_result",
          "data": {
            "text/plain": [
              "2.5"
            ]
          },
          "metadata": {},
          "execution_count": 3
        }
      ]
    },
    {
      "cell_type": "code",
      "source": [
        "5//2"
      ],
      "metadata": {
        "id": "lyFHtjGPbxK3",
        "outputId": "5ed96845-f9ec-4c05-faec-98050b4bcfcc",
        "colab": {
          "base_uri": "https://localhost:8080/"
        }
      },
      "execution_count": 4,
      "outputs": [
        {
          "output_type": "execute_result",
          "data": {
            "text/plain": [
              "2"
            ]
          },
          "metadata": {},
          "execution_count": 4
        }
      ]
    },
    {
      "cell_type": "code",
      "source": [
        "(2+3)**2"
      ],
      "metadata": {
        "id": "AGGwZNznbzDS",
        "outputId": "3f8d2c9d-1ad0-407a-d752-87a39cd5c39e",
        "colab": {
          "base_uri": "https://localhost:8080/"
        }
      },
      "execution_count": 5,
      "outputs": [
        {
          "output_type": "execute_result",
          "data": {
            "text/plain": [
              "25"
            ]
          },
          "metadata": {},
          "execution_count": 5
        }
      ]
    },
    {
      "cell_type": "markdown",
      "source": [
        "#Operadores lógicos con números\n",
        "##Devuelven un valor lógico o booleano.\n",
        "\n",
        "* Operadores lógicos: \n",
        " * (igual que) ==\n",
        " * (mayor que) >\n",
        " * (menor que) < \n",
        " * (mayor o igual que) >= \n",
        " * (menor o igual que) <= \n",
        " * (distinto de) != "
      ],
      "metadata": {
        "id": "m2KvYomfb3e6"
      }
    },
    {
      "cell_type": "code",
      "source": [
        "3==3"
      ],
      "metadata": {
        "id": "uKIKV0FjcQmr",
        "outputId": "fd0c99c0-f93a-4e01-cb66-90c0ec3924a1",
        "colab": {
          "base_uri": "https://localhost:8080/"
        }
      },
      "execution_count": 6,
      "outputs": [
        {
          "output_type": "execute_result",
          "data": {
            "text/plain": [
              "True"
            ]
          },
          "metadata": {},
          "execution_count": 6
        }
      ]
    },
    {
      "cell_type": "code",
      "source": [
        "3.1<=3"
      ],
      "metadata": {
        "id": "PCeqmVDGcSJR",
        "outputId": "26558471-e1e8-43ae-94b4-e58a27870f71",
        "colab": {
          "base_uri": "https://localhost:8080/"
        }
      },
      "execution_count": 7,
      "outputs": [
        {
          "output_type": "execute_result",
          "data": {
            "text/plain": [
              "False"
            ]
          },
          "metadata": {},
          "execution_count": 7
        }
      ]
    },
    {
      "cell_type": "code",
      "source": [
        "-1!=1"
      ],
      "metadata": {
        "id": "F_jjp4m6cTqp",
        "outputId": "0b0c1ecf-96d7-4b8a-f139-a4d20ab3644b",
        "colab": {
          "base_uri": "https://localhost:8080/"
        }
      },
      "execution_count": 8,
      "outputs": [
        {
          "output_type": "execute_result",
          "data": {
            "text/plain": [
              "True"
            ]
          },
          "metadata": {},
          "execution_count": 8
        }
      ]
    },
    {
      "cell_type": "markdown",
      "source": [
        "## Ejercicio 1\n",
        "Diseñe un programa que determine la Superficie (S) y el Perímetro (P) de un círculo del que se conoce  su radio (r) . Considere las siguientes fórmulas: S=2𝜋𝑟 y P=𝜋 𝑟"
      ],
      "metadata": {
        "id": "w1hT4kIWcWWS"
      }
    },
    {
      "cell_type": "code",
      "source": [
        "import math\n",
        "radio = float(input(\"Por favor, ingrese el radio del círculo: \"))\n",
        "superficie = math.pi*radio**2\n",
        "perimetro = 2*math.pi*radio\n",
        "\n",
        "print(\"La superficie del círculo es: \", superficie, \" centrímetros cuadrados.\")\n",
        "print(\"El perímetro del círculo es: \", perimetro, \" centímetros cuadrados.\")"
      ],
      "metadata": {
        "id": "JE8UnpGgcgQe",
        "outputId": "1724c8ae-6103-4db2-ff61-67f9e041390f",
        "colab": {
          "base_uri": "https://localhost:8080/"
        }
      },
      "execution_count": 30,
      "outputs": [
        {
          "output_type": "stream",
          "name": "stdout",
          "text": [
            "Por favor, ingrese el radio del círculo: 25\n",
            "La superficie del círculo es:  1963.4954084936207  centrímetros cuadrados.\n",
            "El perímetro del círculo es:  157.07963267948966  centímetros cuadrados.\n"
          ]
        }
      ]
    },
    {
      "cell_type": "code",
      "source": [
        "radio = float(input(\"Ingrese el radio del círculo: \"))\n",
        "\n",
        "pi = 3.14159\n",
        "\n",
        "superficie = pi*radio**2\n",
        "perimetro = 2*pi*radio\n",
        "\n",
        "print(\"La superficie del círculo es:\", superficie, \"centímetros cuadrados.\")\n",
        "print(\"El perímetro del círculo es:\", perimetro, \" centímetros cuadrados.\")"
      ],
      "metadata": {
        "id": "h2hMgbABchLE",
        "outputId": "4da742f7-0874-40c5-ec83-6ef3f0db87fe",
        "colab": {
          "base_uri": "https://localhost:8080/"
        }
      },
      "execution_count": 32,
      "outputs": [
        {
          "output_type": "stream",
          "name": "stdout",
          "text": [
            "Ingrese el radio del círculo: 25\n",
            "La superficie del círculo es: 1963.4937499999999 centímetros cuadrados.\n",
            "El perímetro del círculo es: 157.0795  centímetros cuadrados.\n"
          ]
        }
      ]
    },
    {
      "cell_type": "markdown",
      "source": [
        "## Ejercicio 2\n",
        "\n",
        "Escribir un PROGRAMA EN PYTHON de un programa que permita leer el peso de una persona, calcule el IMC y posteriormente imprimirla.\n",
        "* Fórmula: IMC = Peso/(Estatura x Estatura)"
      ],
      "metadata": {
        "id": "naurrxwJchnm"
      }
    },
    {
      "cell_type": "code",
      "source": [
        "peso = float(input(\"Ingrese el peso en kg de la persona: \"))\n",
        "altura = float(input(\"Ingrese la altura en metros de la persona: \"))\n",
        "\n",
        "imc = peso / (altura ** 2)\n",
        "\n",
        "print(\"El IMC de la persona es:\", imc)"
      ],
      "metadata": {
        "id": "VBVFzQhccx57",
        "outputId": "7dc498f7-b846-43b5-f2a0-4d3e1fa6d47d",
        "colab": {
          "base_uri": "https://localhost:8080/"
        }
      },
      "execution_count": 34,
      "outputs": [
        {
          "output_type": "stream",
          "name": "stdout",
          "text": [
            "Ingrese el peso en kg de la persona: 85\n",
            "Ingrese la altura en metros de la persona: 1.84\n",
            "El IMC de la persona es: 25.10633270321361\n"
          ]
        }
      ]
    },
    {
      "cell_type": "code",
      "source": [
        "from re import M\n",
        "### Profesor, esta es la fórmula de Lorenz\n",
        "\n",
        "peso = input(\"Ingrese el peso en kg de la persona: \")\n",
        "altura = input(\"Ingrese la altura en metros de la persona (con punto): \")\n",
        "sexo = input(\"Ingrese el sexo de la persona (M para masculino, F para femenino): \")\n",
        "\n",
        "###Con esto validamos si  la información entregada es correcta ono\n",
        "try:\n",
        "    peso = int(peso)\n",
        "    altura = float(altura)\n",
        "    if sexo not in ['M', 'F']:\n",
        "        raise ValueError\n",
        "except ValueError:\n",
        "    print(\"Error: los valores ingresados no son válidos.\")\n",
        "    exit()\n",
        "\n",
        "### Acá resolvemos la información que se solicita\n",
        "if sexo == \"M\":\n",
        "  imc = 1.2*peso/(altura**2.5)*1000\n",
        "elif sexo == \"F\":\n",
        "  imc = 1.1*peso/(altura**2.5)*1000\n",
        "\n",
        "#Acá daremos el valor IMC con dos decimales, la diferencia con el ejercicio anterior es que en esta se ve en un número decimales, la otra ne números enteros pero ambos revelan porcentaje\n",
        "print(f\"El IMC de la persona es: {imc:.2f}\")"
      ],
      "metadata": {
        "id": "wpfNtg6IcyEs",
        "outputId": "1b43335c-65c0-454b-e190-aed72977493e",
        "colab": {
          "base_uri": "https://localhost:8080/"
        }
      },
      "execution_count": 37,
      "outputs": [
        {
          "output_type": "stream",
          "name": "stdout",
          "text": [
            "Ingrese el peso en kg de la persona: 85\n",
            "Ingrese la altura en metros de la persona (con punto): 184\n",
            "Ingrese el sexo de la persona (M para masculino, F para femenino): M\n",
            "El IMC de la persona es: 0.22\n"
          ]
        }
      ]
    },
    {
      "cell_type": "markdown",
      "source": [
        "## Ejercicio 3\n",
        "Determinar la frecuencia cardiaca. El usuario debe proporcionarte su edad y su peso.\n",
        "* Formula: freq = 210 - 0.5 x edad - (0.01 x peso + 4)\n"
      ],
      "metadata": {
        "id": "IihX6cKfcn_m"
      }
    },
    {
      "cell_type": "code",
      "source": [
        "edad = int(input(\"Ingrese la edad del usuario: \"))\n",
        "peso = float(input(\"Ingrese el peso del usuario en kg: \"))\n",
        "\n",
        "### Debemos aclarar que FCM = Frecuencia Cardiaca Máxima (220 - edad del usuario) y que FCR = Frecuencia Cardiaca en Reposo (la frecuencia cardiaca en reposo es la frecuencia cardiaca de una persona cuando está en reposo completo)\n",
        "### % Intensidad de Entrenamiento = El porcentaje de la FCM que se quiere alcanzar durante el ejercicio (generalmente entre el 50% y el 85%)\n",
        "\n",
        "FCM = 220 - edad\n",
        "FCR = 60\n",
        "\n",
        "### Debemos pedir la intensidad del entrenamiento\n",
        "\n",
        "intensidad = float(input(\"Ingrese el porcentaje de intensidad de entrenamiento deseado (entre 50 y 85%): \")) / 100\n",
        "\n",
        "### Calculamos la frecuencia cardiaca del entrenamiento\n",
        "\n",
        "FCO = ((FCM - FCR)*intensidad)+FCR\n",
        "\n",
        "print(\"La frecuencia cardiaca objetivo para el usuario es de: %d BPM (beats per minute)\" % FCO)\n"
      ],
      "metadata": {
        "id": "FfaWReLgcyoG",
        "outputId": "d34e5534-ee65-4a42-908b-d5c4479b8592",
        "colab": {
          "base_uri": "https://localhost:8080/"
        }
      },
      "execution_count": 38,
      "outputs": [
        {
          "output_type": "stream",
          "name": "stdout",
          "text": [
            "Ingrese la edad del usuario: 36\n",
            "Ingrese el peso del usuario en kg: 85\n",
            "Ingrese el porcentaje de intensidad de entrenamiento deseado (entre 50 y 85%): 75\n",
            "La frecuencia cardiaca objetivo para el usuario es de: 153 BPM (beats per minute)\n"
          ]
        }
      ]
    },
    {
      "cell_type": "code",
      "source": [],
      "metadata": {
        "id": "swyiXg3Qcyv6"
      },
      "execution_count": null,
      "outputs": []
    },
    {
      "cell_type": "markdown",
      "source": [
        "## Ejercicio 4\n",
        "\n",
        "Hacer un formulario para registrar sus nombres, apellidos, fecha de nacimiento, su nota parcial y nota final. Una vez registrado sus datos mostrar en pantalla que se ha registrado con éxitos sus datos y la edad del participante y su promedio de notas.\n"
      ],
      "metadata": {
        "id": "lXqc7f7GekPw"
      }
    },
    {
      "cell_type": "code",
      "source": [
        "## Definimos ciertos conceptos\n",
        "\n",
        "def calcular_edad(fecha_nacimiento, fecha_actual):\n",
        "    dia_nacimiento, mes_nacimiento, anio_nacimiento = fecha_nacimiento\n",
        "    dia_nacimiento, mes_actual, anio_actual = fecha_actual\n",
        "\n",
        "    edad = anio_actual - anio_nacimiento\n",
        "\n",
        "    if mes_nacimiento > mes_actual:\n",
        "        edad -= 1\n",
        "    elif mes_nacimiento == mes_actual and dia_nacimiento > fecha_actual:\n",
        "        edad -= 1\n",
        "\n",
        "    return edad\n",
        "\n",
        "def calcular_promedio(nota_parcial, nota_final):\n",
        "    promedio = (nota_parcial + nota_final) / 2\n",
        "    return promedio\n",
        "\n",
        "## Ahora una función para validar la fecha\n",
        "def validar_fecha(fecha):\n",
        "    try:\n",
        "        dia, mes, anio = map(int, fecha.split('/'))\n",
        "        if not(1 <= dia <= 31 and 1 <= mes <= 12 and anio > 0):\n",
        "            raise ValueError\n",
        "        return (dia, mes, anio)\n",
        "    except ValueError:\n",
        "        print(\"La fecha ingresada es inválida.\")\n",
        "        return None\n",
        "\n",
        "## Esta función es para validar la nota\n",
        "def validar_nota(nota):\n",
        "    try:\n",
        "        nota = float(nota)\n",
        "        if not(0 <= nota <= 10):\n",
        "            raise ValueError\n",
        "        return nota\n",
        "    except ValueError:\n",
        "        print(\"La nota ingresada es inválida.\")\n",
        "        return None\n",
        "\n",
        "## Ahora vamos a pedir datos al usuario\n",
        "nombre = input(\"Ingrese su nombre: \")\n",
        "apellido = input(\"Ingrese su apellido: \")\n",
        "fecha_nacimiento = None\n",
        "while fecha_nacimiento is None:\n",
        "    fecha_nacimiento = validar_fecha(input(\"Ingrese su fecha de nacimiento (en formato DD/MM/AAAA): \"))\n",
        "nota_parcial = None\n",
        "while nota_parcial is None:\n",
        "    nota_parcial = validar_nota(input(\"Ingrese su nota parcial: \"))\n",
        "nota_final = None\n",
        "while nota_final is None:\n",
        "    nota_final = validar_nota(input(\"Ingrese su nota final: \"))\n",
        "fecha_actual = None\n",
        "while fecha_actual is None:\n",
        "    fecha_actual = validar_fecha(input(\"Ingrese la fecha actual (en formato DD/MM/AAAA): \"))\n",
        "\n",
        "## Ahora pasamos calcular edad y promedio\n",
        "edad = calcular_edad(fecha_nacimiento, fecha_actual)\n",
        "promedio = calcular_promedio(nota_parcial, nota_final)\n",
        "\n",
        "## A imprimirrrrrrrrr\n",
        "print(\"Se ha registrado con éxito la siguiente información:\")\n",
        "print(\"Nombre: \", nombre)\n",
        "print(\"Apellido: \", apellido)\n",
        "print(\"Edad: \", edad)\n",
        "print(\"Promedio de notas: \", promedio)\n",
        "\n"
      ],
      "metadata": {
        "id": "iAboduWnfD6z",
        "outputId": "ea6c39ce-f73a-4c79-9a87-ca39939cbb71",
        "colab": {
          "base_uri": "https://localhost:8080/"
        }
      },
      "execution_count": 43,
      "outputs": [
        {
          "output_type": "stream",
          "name": "stdout",
          "text": [
            "Ingrese su nombre: Fernando\n",
            "Ingrese su apellido: Bermúdez\n",
            "Ingrese su fecha de nacimiento (en formato DD/MM/AAAA): 07/06/1986\n",
            "Ingrese su nota parcial: 3.5\n",
            "Ingrese su nota final: 7.0\n",
            "Ingrese la fecha actual (en formato DD/MM/AAAA): 23/04/2023\n",
            "Se ha registrado con éxito la siguiente información:\n",
            "Nombre:  Fernando\n",
            "Apellido:  Bermúdez\n",
            "Edad:  36\n",
            "Promedio de notas:  5.25\n"
          ]
        }
      ]
    },
    {
      "cell_type": "code",
      "source": [
        "## Dejamos en claro en el sistema cuál es la función para calcular la edad\n",
        "def calcular_edad(fecha_nacimiento, fecha_actual):\n",
        "    dia_nacimiento, mes_nacimiento, anio_nacimiento = fecha_nacimiento\n",
        "    dia_nacimiento, mes_actual, anio_actual = fecha_actual\n",
        "\n",
        "    edad = anio_actual - anio_nacimiento\n",
        "\n",
        "    if mes_nacimiento > mes_actual:\n",
        "        edad -= 1\n",
        "    elif mes_nacimiento == mes_actual and dia_nacimiento > fecha_actual:\n",
        "        edad -= 1\n",
        "\n",
        "    return edad\n",
        "\n",
        "## También la función para calcular el promedio de notas\n",
        "def calcular_promedio(nota_parcial, nota_final):\n",
        "    promedio = (nota_parcial + nota_final) / 2\n",
        "    return promedio\n",
        "\n",
        "## Ahora pedimos datos al usuario\n",
        "nombre = input(\"Ingrese su nombre: \")\n",
        "apellido = input(\"Ingrese su apellido: \")\n",
        "fecha_nacimiento = input(\"Ingrese su fecha de nacimiento (en formato DD/MM/AAAA): \")\n",
        "nota_parcial = float(input(\"Ingrese su nota parcial: \"))\n",
        "nota_final = float(input(\"Ingrese su nota final: \"))\n",
        "fecha_actual = input(\"Ingrese la fecha actual (en formato DD/MM/AAAA): \")\n",
        "\n",
        "## Esto es importante para este programa, necesitamos convertir fechas a tuplas de enteros\n",
        "fecha_nacimiento = tuple(map(int, fecha_nacimiento.split('/')))\n",
        "fecha_actual = tuple(map(int, fecha_actual.split('/')))\n",
        "\n",
        "## Ahora calculamos la edad y promedio\n",
        "edad = calcular_edad(fecha_nacimiento, fecha_actual)\n",
        "promedio = calcular_promedio(nota_parcial, nota_final)\n",
        "\n",
        "## Se imprime!\n",
        "print(\"Se ha registrado con éxito la siguiente información:\")\n",
        "print(\"Nombre: \", nombre)\n",
        "print(\"Apellido: \", apellido)\n",
        "print(\"Edad: \", edad)\n",
        "print(\"Promedio de notas: \", promedio)"
      ],
      "metadata": {
        "id": "VCtvDIG9fEIm",
        "outputId": "05dc55fc-5ca4-4c77-d610-e67de4204f4d",
        "colab": {
          "base_uri": "https://localhost:8080/"
        }
      },
      "execution_count": 42,
      "outputs": [
        {
          "output_type": "stream",
          "name": "stdout",
          "text": [
            "Ingrese su nombre: hfuy\n",
            "Ingrese su apellido: jhfuy\n",
            "Ingrese su fecha de nacimiento (en formato DD/MM/AAAA): 07/06/1986\n",
            "Ingrese su nota parcial: 6.0\n",
            "Ingrese su nota final: 7.0\n",
            "Ingrese la fecha actual (en formato DD/MM/AAAA): 23/04/2023\n",
            "Se ha registrado con éxito la siguiente información:\n",
            "Nombre:  hfuy\n",
            "Apellido:  jhfuy\n",
            "Edad:  36\n",
            "Promedio de notas:  6.5\n"
          ]
        }
      ]
    }
  ]
}